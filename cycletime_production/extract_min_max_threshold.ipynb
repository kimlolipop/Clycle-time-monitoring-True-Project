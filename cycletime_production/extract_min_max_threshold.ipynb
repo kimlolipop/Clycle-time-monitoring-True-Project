{
 "cells": [
  {
   "cell_type": "code",
   "execution_count": 123,
   "id": "4dc829d5-cc45-4faa-915d-e7281f7440fd",
   "metadata": {},
   "outputs": [
    {
     "name": "stdout",
     "output_type": "stream",
     "text": [
      "25.0\n",
      "1\n",
      "[8.04]\n",
      "8.04\n",
      "2\n",
      "[8.04, 6.52]\n",
      "7.279999999999999\n",
      "3\n",
      "[8.04, 6.52, 6.8]\n",
      "7.12\n",
      "4\n",
      "[8.04, 6.52, 6.8, 6.52]\n",
      "6.97\n",
      "5\n",
      "[8.04, 6.52, 6.8, 6.52, 6.68]\n",
      "6.912000000000001\n",
      "6\n",
      "[8.04, 6.52, 6.8, 6.52, 6.68, 7.56]\n",
      "7.0200000000000005\n",
      "7\n",
      "[8.04, 6.52, 6.8, 6.52, 6.68, 7.56, 6.8]\n",
      "6.988571428571428\n",
      "[8.04, 6.52, 6.8, 6.52, 6.68, 7.56, 6.8]\n"
     ]
    }
   ],
   "source": [
    "import cv2\n",
    "import numpy as np\n",
    "import pandas as pd\n",
    "\n",
    "#ใช่แบบนี้ไม่ต้องเก็บ buffer เอง\n",
    "path = 'D:/Git project/cycle_time_monitoring/Clycle-time-monitoring-True-Project/Normal.avi'\n",
    "cap = cv2.VideoCapture(path)\n",
    "\n",
    "# setting record\n",
    "# frame_width = int(cap.get(3))\n",
    "# frame_height = int(cap.get(4))\n",
    "# out = cv2.VideoWriter('outpy_2.avi',cv2.VideoWriter_fourcc('M','J','P','G'), 10, (frame_width,frame_height))\n",
    "\n",
    "# Get the frames per second\n",
    "fps = cap.get(cv2.CAP_PROP_FPS)\n",
    "print(fps)\n",
    "\n",
    "# Get the total numer of frames in the video. value same as image frame\n",
    "# frame_count = cap.get(cv2.CAP_PROP_FRAME_COUNT)\n",
    "# print(frame_count)\n",
    "\n",
    "#Time of video(sec)\n",
    "# duration = frame_count / fps\n",
    "# print(duration)\n",
    "\n",
    "# bgsubknn = cv2.createBackgroundSubtractorKNN(40) # มักจะดีกว่า , default จะเก็บ buffer 400 - 500 grame\n",
    "# L1 = np.r_[50:53]\n",
    "# L2 = np.r_[60:63]\n",
    "\n",
    "\n",
    "L1_status, L2_status = False, False\n",
    "count = 0\n",
    "relay = [0, 50, 0]\n",
    "relay_status = False\n",
    "\n",
    "timer = 0\n",
    "process_time = 0\n",
    "cycle_time = []\n",
    "std_time = 9\n",
    "green = (0, 255, 0)\n",
    "red = (0, 0, 255)\n",
    "value_frame1 = []\n",
    "value_frame2 = []\n",
    "\n",
    "bgsubknn1 = cv2.createBackgroundSubtractorKNN(40)\n",
    "bgsubknn2 = cv2.createBackgroundSubtractorKNN(40)\n",
    "y1 = 140\n",
    "y2 = 200\n",
    "x1 = 50\n",
    "x2 = 200\n",
    "\n",
    "yy1 = 170\n",
    "yy2 = 250\n",
    "xx1 = 430\n",
    "xx2 = 500\n",
    "\n",
    "process_n = 0 # flase=process, True=double-process\n",
    "process_s = 0\n",
    "\n",
    "c=0\n",
    "u=1\n",
    "while True:\n",
    "    ret, img = cap.read()\n",
    "    if not ret:\n",
    "        break\n",
    "    frame = cv2.GaussianBlur(img ,(5,5),0)\n",
    "\n",
    "    c += 1\n",
    "    timer += 1\n",
    "    \n",
    "    \n",
    "    crop_frame1 = frame[y1:y2, x1:x2]\n",
    "    crop_frame2 = frame[yy1:yy2, xx1:xx2]\n",
    "\n",
    "    fg1 = bgsubknn1.apply(crop_frame1)\n",
    "    fg2 = bgsubknn2.apply(crop_frame2)\n",
    "\n",
    "#     print(relay_status)\n",
    "    # print(np.sum(fg1))\n",
    "    relay[2] += 1 # action\n",
    "    if np.sum(fg1) > 100000 and c > 100 and relay[2] > 50:\n",
    "        L1_status = True\n",
    "        process_n += 1\n",
    "    \n",
    "        relay[2] = 0\n",
    "    else:\n",
    "        u=1\n",
    "\n",
    "\n",
    "    if np.sum(fg2) > 80000 and c > 100 and relay_status == True:\n",
    "        L2_status = True\n",
    "    else:\n",
    "        u=1\n",
    "    value_frame1.append(np.sum(fg1))\n",
    "    value_frame2.append(np.sum(fg2))\n",
    "\n",
    "\n",
    "    # check status\n",
    "    # print(L1_status, L2_status, relay_status, np.sum(fg1))\n",
    "    \n",
    "    if L1_status and L2_status:\n",
    "        L1_status = False\n",
    "        L2_status = False\n",
    "\n",
    "        if relay_status:\n",
    "            relay_status = False\n",
    "            L1_status = False\n",
    "            L2_status = False\n",
    "            process_n = 0\n",
    "\n",
    "            count += 1\n",
    "            print(count)\n",
    "            \n",
    "\n",
    "            process_time = timer/fps\n",
    "            cycle_time.append(process_time)\n",
    "\n",
    "            print(cycle_time)\n",
    "            print(sum(cycle_time)/len(cycle_time))\n",
    "            timer = 0\n",
    "\n",
    "    process_s = process_n\n",
    "    # condition relay\n",
    "    if relay_status == False:\n",
    "        relay[0] += 1\n",
    "        \n",
    "\n",
    "    if relay[0] >= relay[1]:\n",
    "        relay_status = True\n",
    "        relay[0] = 0\n",
    "\n",
    "    \n",
    "    cv2.putText(img, 'Timer: ' + str(round(timer/fps)) + ' Sec', (10, 30), cv2.FONT_HERSHEY_SIMPLEX, 0.5, (255, 0, 0), 2)\n",
    "    cv2.putText(img, 'Std. time = ' + str(round(std_time)) + ' Sec', (10, 50), cv2.FONT_HERSHEY_SIMPLEX, 0.5, (255, 0, 0), 2)\n",
    "\n",
    "    if process_time > std_time:\n",
    "        color = red\n",
    "        cv2.putText(img, 'process_time = ' + str(round(process_time)) + ' Sec', (10, 70), cv2.FONT_HERSHEY_SIMPLEX, 0.5,color, 2)\n",
    "    else:\n",
    "        color = green\n",
    "        cv2.putText(img, 'process_time = ' + str(round(process_time)) + ' Sec', (10, 70), cv2.FONT_HERSHEY_SIMPLEX, 0.5, color, 2)\n",
    "    \n",
    "    if process_s == 0:\n",
    "        txt = 'none'\n",
    "    elif process_s == 1:\n",
    "        txt = 'process'\n",
    "    elif process_s >= 2:\n",
    "        txt = 'double-process'\n",
    "    \n",
    "    cv2.putText(img, 'status: ' + txt, (400, 30), cv2.FONT_HERSHEY_SIMPLEX, 0.5, (255, 0, 0), 2)\n",
    "    \n",
    "\n",
    "    # out.write(frame)\n",
    "    cv2.imshow('frame', img)\n",
    "    cv2.imshow('frame2', fg1)\n",
    "    cv2.imshow('frame3', fg2)\n",
    "\n",
    "\n",
    "    key = cv2.waitKey(1)\n",
    "    if key ==27:\n",
    "        break\n",
    "\n",
    "print(cycle_time)\n"
   ]
  },
  {
   "cell_type": "code",
   "execution_count": 4,
   "id": "2f7bf23c-76ac-429c-b9f0-38f8d4b37058",
   "metadata": {},
   "outputs": [
    {
     "data": {
      "text/plain": [
       "1253"
      ]
     },
     "execution_count": 4,
     "metadata": {},
     "output_type": "execute_result"
    }
   ],
   "source": [
    "len(value_frame1)"
   ]
  },
  {
   "cell_type": "code",
   "execution_count": 5,
   "id": "58071f4a-ae60-4235-a762-ca9181d86ddf",
   "metadata": {},
   "outputs": [
    {
     "data": {
      "text/plain": [
       "1253"
      ]
     },
     "execution_count": 5,
     "metadata": {},
     "output_type": "execute_result"
    }
   ],
   "source": [
    "len(value_frame2)"
   ]
  },
  {
   "cell_type": "code",
   "execution_count": 42,
   "id": "0325cf56-5f1d-4657-ac8a-343974da776e",
   "metadata": {},
   "outputs": [
    {
     "data": {
      "text/html": [
       "<div>\n",
       "<style scoped>\n",
       "    .dataframe tbody tr th:only-of-type {\n",
       "        vertical-align: middle;\n",
       "    }\n",
       "\n",
       "    .dataframe tbody tr th {\n",
       "        vertical-align: top;\n",
       "    }\n",
       "\n",
       "    .dataframe thead th {\n",
       "        text-align: right;\n",
       "    }\n",
       "</style>\n",
       "<table border=\"1\" class=\"dataframe\">\n",
       "  <thead>\n",
       "    <tr style=\"text-align: right;\">\n",
       "      <th></th>\n",
       "      <th>fg1</th>\n",
       "      <th>fg2</th>\n",
       "      <th>dummy</th>\n",
       "    </tr>\n",
       "  </thead>\n",
       "  <tbody>\n",
       "    <tr>\n",
       "      <th>0</th>\n",
       "      <td>54305</td>\n",
       "      <td>0</td>\n",
       "      <td>1</td>\n",
       "    </tr>\n",
       "    <tr>\n",
       "      <th>1</th>\n",
       "      <td>52138</td>\n",
       "      <td>254</td>\n",
       "      <td>1</td>\n",
       "    </tr>\n",
       "    <tr>\n",
       "      <th>2</th>\n",
       "      <td>46020</td>\n",
       "      <td>254</td>\n",
       "      <td>1</td>\n",
       "    </tr>\n",
       "    <tr>\n",
       "      <th>3</th>\n",
       "      <td>37991</td>\n",
       "      <td>637</td>\n",
       "      <td>1</td>\n",
       "    </tr>\n",
       "    <tr>\n",
       "      <th>4</th>\n",
       "      <td>35822</td>\n",
       "      <td>1270</td>\n",
       "      <td>1</td>\n",
       "    </tr>\n",
       "    <tr>\n",
       "      <th>...</th>\n",
       "      <td>...</td>\n",
       "      <td>...</td>\n",
       "      <td>...</td>\n",
       "    </tr>\n",
       "    <tr>\n",
       "      <th>1238</th>\n",
       "      <td>0</td>\n",
       "      <td>25469</td>\n",
       "      <td>1</td>\n",
       "    </tr>\n",
       "    <tr>\n",
       "      <th>1239</th>\n",
       "      <td>255</td>\n",
       "      <td>19352</td>\n",
       "      <td>1</td>\n",
       "    </tr>\n",
       "    <tr>\n",
       "      <th>1240</th>\n",
       "      <td>0</td>\n",
       "      <td>19862</td>\n",
       "      <td>1</td>\n",
       "    </tr>\n",
       "    <tr>\n",
       "      <th>1241</th>\n",
       "      <td>0</td>\n",
       "      <td>17184</td>\n",
       "      <td>1</td>\n",
       "    </tr>\n",
       "    <tr>\n",
       "      <th>1242</th>\n",
       "      <td>0</td>\n",
       "      <td>55697</td>\n",
       "      <td>1</td>\n",
       "    </tr>\n",
       "  </tbody>\n",
       "</table>\n",
       "<p>1243 rows × 3 columns</p>\n",
       "</div>"
      ],
      "text/plain": [
       "        fg1    fg2  dummy\n",
       "0     54305      0      1\n",
       "1     52138    254      1\n",
       "2     46020    254      1\n",
       "3     37991    637      1\n",
       "4     35822   1270      1\n",
       "...     ...    ...    ...\n",
       "1238      0  25469      1\n",
       "1239    255  19352      1\n",
       "1240      0  19862      1\n",
       "1241      0  17184      1\n",
       "1242      0  55697      1\n",
       "\n",
       "[1243 rows x 3 columns]"
      ]
     },
     "execution_count": 42,
     "metadata": {},
     "output_type": "execute_result"
    }
   ],
   "source": [
    "df = pd.DataFrame()\n",
    "df['fg1'] = value_frame1\n",
    "df['fg2'] = value_frame2\n",
    "df['dummy'] = 1\n",
    "df = df[10:].reset_index(drop = True)\n",
    "df"
   ]
  },
  {
   "cell_type": "code",
   "execution_count": null,
   "id": "edf42351-ea10-4892-afcc-d2666b4e9a6c",
   "metadata": {},
   "outputs": [],
   "source": []
  },
  {
   "cell_type": "code",
   "execution_count": 43,
   "id": "c2407cd7-fc66-4faf-ac5e-f96344f8ca26",
   "metadata": {},
   "outputs": [
    {
     "data": {
      "text/plain": [
       "<AxesSubplot:>"
      ]
     },
     "execution_count": 43,
     "metadata": {},
     "output_type": "execute_result"
    },
    {
     "data": {
      "image/png": "[encoded data removed]",
      "text/plain": [
       "<Figure size 432x288 with 1 Axes>"
      ]
     },
     "metadata": {
      "needs_background": "light"
     },
     "output_type": "display_data"
    }
   ],
   "source": [
    "import seaborn as sns\n",
    "sns.lineplot(data=df)"
   ]
  },
  {
   "cell_type": "code",
   "execution_count": 69,
   "id": "3b039d5c-f8eb-4864-aee9-daf06839e48d",
   "metadata": {},
   "outputs": [
    {
     "data": {
      "text/plain": [
       "<AxesSubplot:ylabel='fg2'>"
      ]
     },
     "execution_count": 69,
     "metadata": {},
     "output_type": "execute_result"
    },
    {
     "data": {
      "image/png": "[encoded data removed]",
      "text/plain": [
       "<Figure size 1440x360 with 2 Axes>"
      ]
     },
     "metadata": {
      "needs_background": "light"
     },
     "output_type": "display_data"
    }
   ],
   "source": [
    "# import seaborn as sns\n",
    "fg1 = df['fg1']\n",
    "fg2 = df['fg2']\n",
    "\n",
    "from matplotlib import pyplot as plt\n",
    "fig, axes = plt.subplots(1, 2, figsize=(20,5))\n",
    "sns.lineplot(ax=axes[0], data=fg1,color='orange')\n",
    "sns.lineplot(ax=axes[1], data=fg2)\n",
    "\n",
    "# sns.lineplot(data=fg2)\n"
   ]
  },
  {
   "cell_type": "code",
   "execution_count": null,
   "id": "4464dd81-e570-4ea0-9bcc-e49de2e7fd08",
   "metadata": {},
   "outputs": [],
   "source": []
  },
  {
   "cell_type": "code",
   "execution_count": 87,
   "id": "a1ca09e6-f279-489b-9b7f-b9ac6557e6b3",
   "metadata": {},
   "outputs": [
    {
     "data": {
      "text/html": [
       "<div>\n",
       "<style scoped>\n",
       "    .dataframe tbody tr th:only-of-type {\n",
       "        vertical-align: middle;\n",
       "    }\n",
       "\n",
       "    .dataframe tbody tr th {\n",
       "        vertical-align: top;\n",
       "    }\n",
       "\n",
       "    .dataframe thead th {\n",
       "        text-align: right;\n",
       "    }\n",
       "</style>\n",
       "<table border=\"1\" class=\"dataframe\">\n",
       "  <thead>\n",
       "    <tr style=\"text-align: right;\">\n",
       "      <th></th>\n",
       "      <th>dummy</th>\n",
       "      <th>fg2</th>\n",
       "    </tr>\n",
       "  </thead>\n",
       "  <tbody>\n",
       "    <tr>\n",
       "      <th>0</th>\n",
       "      <td>1</td>\n",
       "      <td>0</td>\n",
       "    </tr>\n",
       "    <tr>\n",
       "      <th>1</th>\n",
       "      <td>1</td>\n",
       "      <td>254</td>\n",
       "    </tr>\n",
       "    <tr>\n",
       "      <th>2</th>\n",
       "      <td>1</td>\n",
       "      <td>254</td>\n",
       "    </tr>\n",
       "    <tr>\n",
       "      <th>3</th>\n",
       "      <td>1</td>\n",
       "      <td>637</td>\n",
       "    </tr>\n",
       "    <tr>\n",
       "      <th>4</th>\n",
       "      <td>1</td>\n",
       "      <td>1270</td>\n",
       "    </tr>\n",
       "    <tr>\n",
       "      <th>...</th>\n",
       "      <td>...</td>\n",
       "      <td>...</td>\n",
       "    </tr>\n",
       "    <tr>\n",
       "      <th>1238</th>\n",
       "      <td>1</td>\n",
       "      <td>25469</td>\n",
       "    </tr>\n",
       "    <tr>\n",
       "      <th>1239</th>\n",
       "      <td>1</td>\n",
       "      <td>19352</td>\n",
       "    </tr>\n",
       "    <tr>\n",
       "      <th>1240</th>\n",
       "      <td>1</td>\n",
       "      <td>19862</td>\n",
       "    </tr>\n",
       "    <tr>\n",
       "      <th>1241</th>\n",
       "      <td>1</td>\n",
       "      <td>17184</td>\n",
       "    </tr>\n",
       "    <tr>\n",
       "      <th>1242</th>\n",
       "      <td>1</td>\n",
       "      <td>55697</td>\n",
       "    </tr>\n",
       "  </tbody>\n",
       "</table>\n",
       "<p>1243 rows × 2 columns</p>\n",
       "</div>"
      ],
      "text/plain": [
       "      dummy    fg2\n",
       "0         1      0\n",
       "1         1    254\n",
       "2         1    254\n",
       "3         1    637\n",
       "4         1   1270\n",
       "...     ...    ...\n",
       "1238      1  25469\n",
       "1239      1  19352\n",
       "1240      1  19862\n",
       "1241      1  17184\n",
       "1242      1  55697\n",
       "\n",
       "[1243 rows x 2 columns]"
      ]
     },
     "execution_count": 87,
     "metadata": {},
     "output_type": "execute_result"
    }
   ],
   "source": [
    "X = df[['dummy', 'fg2']]\n",
    "X"
   ]
  },
  {
   "cell_type": "code",
   "execution_count": null,
   "id": "0d5b6546-fc0d-4ead-8eda-a866e116af35",
   "metadata": {},
   "outputs": [],
   "source": []
  },
  {
   "cell_type": "code",
   "execution_count": 102,
   "id": "925c8851-4d8f-44e1-9d71-e19d8e65f67c",
   "metadata": {},
   "outputs": [
    {
     "data": {
      "text/plain": [
       "KMeans(n_clusters=2, random_state=0)"
      ]
     },
     "execution_count": 102,
     "metadata": {},
     "output_type": "execute_result"
    }
   ],
   "source": [
    "from sklearn.cluster import KMeans\n",
    "kmeans = KMeans(n_clusters=2, random_state=0).fit(np.array(X))\n",
    "kmeans"
   ]
  },
  {
   "cell_type": "code",
   "execution_count": 103,
   "id": "8d3a5b4b-ca62-4302-8b1e-71a4f2c643b4",
   "metadata": {},
   "outputs": [
    {
     "data": {
      "text/plain": [
       "array([1, 1, 1, ..., 1, 1, 1])"
      ]
     },
     "execution_count": 103,
     "metadata": {},
     "output_type": "execute_result"
    }
   ],
   "source": [
    "kmeans.labels_"
   ]
  },
  {
   "cell_type": "code",
   "execution_count": 104,
   "id": "20ebbdcc-04df-4e96-93a4-dca45532b70d",
   "metadata": {},
   "outputs": [
    {
     "name": "stdout",
     "output_type": "stream",
     "text": [
      "[[   0  152]\n",
      " [   1 1091]]\n"
     ]
    }
   ],
   "source": [
    "(unique, counts) = np.unique(kmeans.labels_, return_counts=True)\n",
    "frequencies = np.asarray((unique, counts)).T\n",
    "print(frequencies)"
   ]
  },
  {
   "cell_type": "code",
   "execution_count": 105,
   "id": "274008cc-2160-4401-accb-765b465910bd",
   "metadata": {},
   "outputs": [
    {
     "data": {
      "text/plain": [
       "4357.550870760808"
      ]
     },
     "execution_count": 105,
     "metadata": {},
     "output_type": "execute_result"
    }
   ],
   "source": [
    "kmeans.cluster_centers_[1][1]"
   ]
  },
  {
   "cell_type": "code",
   "execution_count": 106,
   "id": "a80b2c6a-d207-4271-9ddd-53ae9aa31de4",
   "metadata": {},
   "outputs": [
    {
     "data": {
      "text/html": [
       "<div>\n",
       "<style scoped>\n",
       "    .dataframe tbody tr th:only-of-type {\n",
       "        vertical-align: middle;\n",
       "    }\n",
       "\n",
       "    .dataframe tbody tr th {\n",
       "        vertical-align: top;\n",
       "    }\n",
       "\n",
       "    .dataframe thead th {\n",
       "        text-align: right;\n",
       "    }\n",
       "</style>\n",
       "<table border=\"1\" class=\"dataframe\">\n",
       "  <thead>\n",
       "    <tr style=\"text-align: right;\">\n",
       "      <th></th>\n",
       "      <th>fg1</th>\n",
       "      <th>fg2</th>\n",
       "      <th>dummy</th>\n",
       "      <th>fg1_cls</th>\n",
       "      <th>fg2_cls</th>\n",
       "    </tr>\n",
       "  </thead>\n",
       "  <tbody>\n",
       "    <tr>\n",
       "      <th>0</th>\n",
       "      <td>54305</td>\n",
       "      <td>0</td>\n",
       "      <td>1</td>\n",
       "      <td>1</td>\n",
       "      <td>1</td>\n",
       "    </tr>\n",
       "    <tr>\n",
       "      <th>1</th>\n",
       "      <td>52138</td>\n",
       "      <td>254</td>\n",
       "      <td>1</td>\n",
       "      <td>1</td>\n",
       "      <td>1</td>\n",
       "    </tr>\n",
       "    <tr>\n",
       "      <th>2</th>\n",
       "      <td>46020</td>\n",
       "      <td>254</td>\n",
       "      <td>1</td>\n",
       "      <td>1</td>\n",
       "      <td>1</td>\n",
       "    </tr>\n",
       "    <tr>\n",
       "      <th>3</th>\n",
       "      <td>37991</td>\n",
       "      <td>637</td>\n",
       "      <td>1</td>\n",
       "      <td>1</td>\n",
       "      <td>1</td>\n",
       "    </tr>\n",
       "    <tr>\n",
       "      <th>4</th>\n",
       "      <td>35822</td>\n",
       "      <td>1270</td>\n",
       "      <td>1</td>\n",
       "      <td>1</td>\n",
       "      <td>1</td>\n",
       "    </tr>\n",
       "    <tr>\n",
       "      <th>...</th>\n",
       "      <td>...</td>\n",
       "      <td>...</td>\n",
       "      <td>...</td>\n",
       "      <td>...</td>\n",
       "      <td>...</td>\n",
       "    </tr>\n",
       "    <tr>\n",
       "      <th>1238</th>\n",
       "      <td>0</td>\n",
       "      <td>25469</td>\n",
       "      <td>1</td>\n",
       "      <td>1</td>\n",
       "      <td>1</td>\n",
       "    </tr>\n",
       "    <tr>\n",
       "      <th>1239</th>\n",
       "      <td>255</td>\n",
       "      <td>19352</td>\n",
       "      <td>1</td>\n",
       "      <td>1</td>\n",
       "      <td>1</td>\n",
       "    </tr>\n",
       "    <tr>\n",
       "      <th>1240</th>\n",
       "      <td>0</td>\n",
       "      <td>19862</td>\n",
       "      <td>1</td>\n",
       "      <td>1</td>\n",
       "      <td>1</td>\n",
       "    </tr>\n",
       "    <tr>\n",
       "      <th>1241</th>\n",
       "      <td>0</td>\n",
       "      <td>17184</td>\n",
       "      <td>1</td>\n",
       "      <td>1</td>\n",
       "      <td>1</td>\n",
       "    </tr>\n",
       "    <tr>\n",
       "      <th>1242</th>\n",
       "      <td>0</td>\n",
       "      <td>55697</td>\n",
       "      <td>1</td>\n",
       "      <td>1</td>\n",
       "      <td>1</td>\n",
       "    </tr>\n",
       "  </tbody>\n",
       "</table>\n",
       "<p>1243 rows × 5 columns</p>\n",
       "</div>"
      ],
      "text/plain": [
       "        fg1    fg2  dummy  fg1_cls  fg2_cls\n",
       "0     54305      0      1        1        1\n",
       "1     52138    254      1        1        1\n",
       "2     46020    254      1        1        1\n",
       "3     37991    637      1        1        1\n",
       "4     35822   1270      1        1        1\n",
       "...     ...    ...    ...      ...      ...\n",
       "1238      0  25469      1        1        1\n",
       "1239    255  19352      1        1        1\n",
       "1240      0  19862      1        1        1\n",
       "1241      0  17184      1        1        1\n",
       "1242      0  55697      1        1        1\n",
       "\n",
       "[1243 rows x 5 columns]"
      ]
     },
     "execution_count": 106,
     "metadata": {},
     "output_type": "execute_result"
    }
   ],
   "source": [
    "df['fg2_cls'] = kmeans.labels_\n",
    "df"
   ]
  },
  {
   "cell_type": "code",
   "execution_count": 107,
   "id": "feb07bf9-d2f0-42db-90e4-6f781a76cf13",
   "metadata": {},
   "outputs": [
    {
     "data": {
      "text/plain": [
       "1243"
      ]
     },
     "execution_count": 107,
     "metadata": {},
     "output_type": "execute_result"
    }
   ],
   "source": [
    "len(kmeans.labels_)"
   ]
  },
  {
   "cell_type": "code",
   "execution_count": 108,
   "id": "04c55b0b-ee23-43fa-ab2a-ddb831992338",
   "metadata": {},
   "outputs": [],
   "source": [
    "clss = df.reset_index()\n",
    "cls0 = clss[clss['fg2_cls'] == 0]\n",
    "cls1 = clss[clss['fg2_cls'] == 1]\n"
   ]
  },
  {
   "cell_type": "code",
   "execution_count": 109,
   "id": "df2d868b-8d22-4646-ba71-b443c7dd7ec6",
   "metadata": {},
   "outputs": [
    {
     "data": {
      "text/html": [
       "<div>\n",
       "<style scoped>\n",
       "    .dataframe tbody tr th:only-of-type {\n",
       "        vertical-align: middle;\n",
       "    }\n",
       "\n",
       "    .dataframe tbody tr th {\n",
       "        vertical-align: top;\n",
       "    }\n",
       "\n",
       "    .dataframe thead th {\n",
       "        text-align: right;\n",
       "    }\n",
       "</style>\n",
       "<table border=\"1\" class=\"dataframe\">\n",
       "  <thead>\n",
       "    <tr style=\"text-align: right;\">\n",
       "      <th></th>\n",
       "      <th>index</th>\n",
       "      <th>fg1</th>\n",
       "      <th>fg2</th>\n",
       "      <th>dummy</th>\n",
       "      <th>fg1_cls</th>\n",
       "      <th>fg2_cls</th>\n",
       "    </tr>\n",
       "  </thead>\n",
       "  <tbody>\n",
       "    <tr>\n",
       "      <th>9</th>\n",
       "      <td>9</td>\n",
       "      <td>49328</td>\n",
       "      <td>72947</td>\n",
       "      <td>1</td>\n",
       "      <td>0</td>\n",
       "      <td>0</td>\n",
       "    </tr>\n",
       "    <tr>\n",
       "      <th>10</th>\n",
       "      <td>10</td>\n",
       "      <td>46523</td>\n",
       "      <td>89892</td>\n",
       "      <td>1</td>\n",
       "      <td>0</td>\n",
       "      <td>0</td>\n",
       "    </tr>\n",
       "    <tr>\n",
       "      <th>11</th>\n",
       "      <td>11</td>\n",
       "      <td>48180</td>\n",
       "      <td>113807</td>\n",
       "      <td>1</td>\n",
       "      <td>0</td>\n",
       "      <td>0</td>\n",
       "    </tr>\n",
       "    <tr>\n",
       "      <th>12</th>\n",
       "      <td>12</td>\n",
       "      <td>45758</td>\n",
       "      <td>148304</td>\n",
       "      <td>1</td>\n",
       "      <td>0</td>\n",
       "      <td>0</td>\n",
       "    </tr>\n",
       "    <tr>\n",
       "      <th>13</th>\n",
       "      <td>13</td>\n",
       "      <td>41415</td>\n",
       "      <td>165794</td>\n",
       "      <td>1</td>\n",
       "      <td>0</td>\n",
       "      <td>0</td>\n",
       "    </tr>\n",
       "    <tr>\n",
       "      <th>...</th>\n",
       "      <td>...</td>\n",
       "      <td>...</td>\n",
       "      <td>...</td>\n",
       "      <td>...</td>\n",
       "      <td>...</td>\n",
       "      <td>...</td>\n",
       "    </tr>\n",
       "    <tr>\n",
       "      <th>1228</th>\n",
       "      <td>1228</td>\n",
       "      <td>8155</td>\n",
       "      <td>100012</td>\n",
       "      <td>1</td>\n",
       "      <td>0</td>\n",
       "      <td>0</td>\n",
       "    </tr>\n",
       "    <tr>\n",
       "      <th>1229</th>\n",
       "      <td>1229</td>\n",
       "      <td>4076</td>\n",
       "      <td>95681</td>\n",
       "      <td>1</td>\n",
       "      <td>0</td>\n",
       "      <td>0</td>\n",
       "    </tr>\n",
       "    <tr>\n",
       "      <th>1230</th>\n",
       "      <td>1230</td>\n",
       "      <td>6496</td>\n",
       "      <td>86646</td>\n",
       "      <td>1</td>\n",
       "      <td>0</td>\n",
       "      <td>0</td>\n",
       "    </tr>\n",
       "    <tr>\n",
       "      <th>1231</th>\n",
       "      <td>1231</td>\n",
       "      <td>6621</td>\n",
       "      <td>74029</td>\n",
       "      <td>1</td>\n",
       "      <td>0</td>\n",
       "      <td>0</td>\n",
       "    </tr>\n",
       "    <tr>\n",
       "      <th>1232</th>\n",
       "      <td>1232</td>\n",
       "      <td>8529</td>\n",
       "      <td>57589</td>\n",
       "      <td>1</td>\n",
       "      <td>0</td>\n",
       "      <td>0</td>\n",
       "    </tr>\n",
       "  </tbody>\n",
       "</table>\n",
       "<p>152 rows × 6 columns</p>\n",
       "</div>"
      ],
      "text/plain": [
       "      index    fg1     fg2  dummy  fg1_cls  fg2_cls\n",
       "9         9  49328   72947      1        0        0\n",
       "10       10  46523   89892      1        0        0\n",
       "11       11  48180  113807      1        0        0\n",
       "12       12  45758  148304      1        0        0\n",
       "13       13  41415  165794      1        0        0\n",
       "...     ...    ...     ...    ...      ...      ...\n",
       "1228   1228   8155  100012      1        0        0\n",
       "1229   1229   4076   95681      1        0        0\n",
       "1230   1230   6496   86646      1        0        0\n",
       "1231   1231   6621   74029      1        0        0\n",
       "1232   1232   8529   57589      1        0        0\n",
       "\n",
       "[152 rows x 6 columns]"
      ]
     },
     "execution_count": 109,
     "metadata": {},
     "output_type": "execute_result"
    }
   ],
   "source": [
    "cls0"
   ]
  },
  {
   "cell_type": "code",
   "execution_count": 111,
   "id": "d0cf3e7f-f738-47a3-84d2-336ae670e59e",
   "metadata": {},
   "outputs": [
    {
     "data": {
      "text/plain": [
       "<AxesSubplot:xlabel='index', ylabel='fg2'>"
      ]
     },
     "execution_count": 111,
     "metadata": {},
     "output_type": "execute_result"
    },
    {
     "data": {
      "image/png": "[encoded data removed]",
      "text/plain": [
       "<Figure size 1440x360 with 2 Axes>"
      ]
     },
     "metadata": {
      "needs_background": "light"
     },
     "output_type": "display_data"
    }
   ],
   "source": [
    "# import seaborn as sns\n",
    "cls0 = cls0[['fg2', 'index']]\n",
    "cls1 = cls1[['fg2', 'index']]\n",
    "# x=bulbasaur.index, y=bulbasaur.values\n",
    "from matplotlib import pyplot as plt\n",
    "fig, axes = plt.subplots(1, 2, figsize=(20,5))\n",
    "sns.lineplot(ax=axes[0], data=cls0, color ='orange',x=\"index\", y=\"fg2\")\n",
    "sns.lineplot(ax=axes[0], data=cls1, color ='blue',x=\"index\", y=\"fg2\")"
   ]
  },
  {
   "cell_type": "code",
   "execution_count": 121,
   "id": "1381871f-2044-4cb1-8880-8554ee2d8018",
   "metadata": {},
   "outputs": [
    {
     "data": {
      "text/plain": [
       "86161.5"
      ]
     },
     "execution_count": 121,
     "metadata": {},
     "output_type": "execute_result"
    }
   ],
   "source": [
    "min(cls0['fg2'])*1.5"
   ]
  },
  {
   "cell_type": "code",
   "execution_count": 119,
   "id": "569294b0-4a70-40f0-a01e-e2d3289c75fb",
   "metadata": {},
   "outputs": [
    {
     "data": {
      "text/plain": [
       "128721.59999999999"
      ]
     },
     "execution_count": 119,
     "metadata": {},
     "output_type": "execute_result"
    }
   ],
   "source": [
    "import statistics\n",
    "statistics.median(cls0['fg2']) *1.2"
   ]
  },
  {
   "cell_type": "code",
   "execution_count": null,
   "id": "723a8014-990c-4be0-852f-12dc7c990ce6",
   "metadata": {},
   "outputs": [],
   "source": []
  },
  {
   "cell_type": "code",
   "execution_count": null,
   "id": "509da0db-78dd-49d0-908d-cfe8e5e82d8c",
   "metadata": {},
   "outputs": [],
   "source": []
  },
  {
   "cell_type": "code",
   "execution_count": 139,
   "id": "88375b23-3a77-452d-8462-ef8469494f9d",
   "metadata": {},
   "outputs": [
    {
     "data": {
      "text/plain": [
       "642551"
      ]
     },
     "execution_count": 139,
     "metadata": {},
     "output_type": "execute_result"
    }
   ],
   "source": [
    "max(df['fg1'])"
   ]
  },
  {
   "cell_type": "code",
   "execution_count": 158,
   "id": "b6b79209-7a1e-4e5d-a928-b973cd01a59c",
   "metadata": {},
   "outputs": [
    {
     "data": {
      "text/html": [
       "<div>\n",
       "<style scoped>\n",
       "    .dataframe tbody tr th:only-of-type {\n",
       "        vertical-align: middle;\n",
       "    }\n",
       "\n",
       "    .dataframe tbody tr th {\n",
       "        vertical-align: top;\n",
       "    }\n",
       "\n",
       "    .dataframe thead th {\n",
       "        text-align: right;\n",
       "    }\n",
       "</style>\n",
       "<table border=\"1\" class=\"dataframe\">\n",
       "  <thead>\n",
       "    <tr style=\"text-align: right;\">\n",
       "      <th></th>\n",
       "      <th>dummy</th>\n",
       "      <th>fg1</th>\n",
       "    </tr>\n",
       "  </thead>\n",
       "  <tbody>\n",
       "    <tr>\n",
       "      <th>10</th>\n",
       "      <td>0</td>\n",
       "      <td>0</td>\n",
       "    </tr>\n",
       "    <tr>\n",
       "      <th>11</th>\n",
       "      <td>254</td>\n",
       "      <td>254</td>\n",
       "    </tr>\n",
       "    <tr>\n",
       "      <th>12</th>\n",
       "      <td>382</td>\n",
       "      <td>382</td>\n",
       "    </tr>\n",
       "    <tr>\n",
       "      <th>13</th>\n",
       "      <td>892</td>\n",
       "      <td>892</td>\n",
       "    </tr>\n",
       "    <tr>\n",
       "      <th>14</th>\n",
       "      <td>1397</td>\n",
       "      <td>1397</td>\n",
       "    </tr>\n",
       "    <tr>\n",
       "      <th>...</th>\n",
       "      <td>...</td>\n",
       "      <td>...</td>\n",
       "    </tr>\n",
       "    <tr>\n",
       "      <th>1248</th>\n",
       "      <td>26998</td>\n",
       "      <td>26998</td>\n",
       "    </tr>\n",
       "    <tr>\n",
       "      <th>1249</th>\n",
       "      <td>21011</td>\n",
       "      <td>21011</td>\n",
       "    </tr>\n",
       "    <tr>\n",
       "      <th>1250</th>\n",
       "      <td>20501</td>\n",
       "      <td>20501</td>\n",
       "    </tr>\n",
       "    <tr>\n",
       "      <th>1251</th>\n",
       "      <td>18716</td>\n",
       "      <td>18716</td>\n",
       "    </tr>\n",
       "    <tr>\n",
       "      <th>1252</th>\n",
       "      <td>56207</td>\n",
       "      <td>56207</td>\n",
       "    </tr>\n",
       "  </tbody>\n",
       "</table>\n",
       "<p>1243 rows × 2 columns</p>\n",
       "</div>"
      ],
      "text/plain": [
       "      dummy    fg1\n",
       "10        0      0\n",
       "11      254    254\n",
       "12      382    382\n",
       "13      892    892\n",
       "14     1397   1397\n",
       "...     ...    ...\n",
       "1248  26998  26998\n",
       "1249  21011  21011\n",
       "1250  20501  20501\n",
       "1251  18716  18716\n",
       "1252  56207  56207\n",
       "\n",
       "[1243 rows x 2 columns]"
      ]
     },
     "execution_count": 158,
     "metadata": {},
     "output_type": "execute_result"
    }
   ],
   "source": [
    "df = pd.DataFrame()\n",
    "df['dummy'] = value_frame2\n",
    "df['fg1'] = value_frame2\n",
    "df = df[10:]\n",
    "df"
   ]
  },
  {
   "cell_type": "code",
   "execution_count": 159,
   "id": "801d2650-ba53-462e-8e6e-48a831b46881",
   "metadata": {},
   "outputs": [],
   "source": [
    "from sklearn.cluster import KMeans\n",
    "import statistics\n",
    "\n",
    "def kmean_clus(df):\n",
    "    kmeans = KMeans(n_clusters=2, random_state=0).fit(np.array(df))\n",
    "    df['fg_cls'] = kmeans.labels_\n",
    "    cls0 = df[df['fg_cls'] == 0]\n",
    "    cls1 = df[df['fg_cls'] == 1]\n",
    "    \n",
    "    min_cls0 = min(cls0['fg1'])\n",
    "    min_cls1 = min(cls1['fg1'])\n",
    "    \n",
    "    if min_cls0 < min_cls1:\n",
    "        focus_df = cls1\n",
    "    else:\n",
    "        focus_df = cls0\n",
    "        \n",
    "#     print(focus_df)\n",
    "    min_v = min(focus_df['fg1']) *1.5\n",
    "    max_v = statistics.mean(focus_df['fg1']) *1.5\n",
    "        \n",
    "\n",
    "    return min_v, max_v"
   ]
  },
  {
   "cell_type": "code",
   "execution_count": 160,
   "id": "3a750b18-2c69-4ef8-9f35-7ca6b889fcef",
   "metadata": {},
   "outputs": [
    {
     "data": {
      "text/plain": [
       "(89286.0, 166797.64285714284)"
      ]
     },
     "execution_count": 160,
     "metadata": {},
     "output_type": "execute_result"
    }
   ],
   "source": [
    "kmean_clus(df)\n",
    "# min_v, max_v = kmean_clus(df)\n",
    "# print(min_v, max_v)"
   ]
  },
  {
   "cell_type": "code",
   "execution_count": null,
   "id": "deaa2bce-d387-43c2-b5bf-d4e0bbd83385",
   "metadata": {},
   "outputs": [],
   "source": []
  }
 ],
 "metadata": {
  "kernelspec": {
   "display_name": "Python 3 (ipykernel)",
   "language": "python",
   "name": "python3"
  },
  "language_info": {
   "codemirror_mode": {
    "name": "ipython",
    "version": 3
   },
   "file_extension": ".py",
   "mimetype": "text/x-python",
   "name": "python",
   "nbconvert_exporter": "python",
   "pygments_lexer": "ipython3",
   "version": "3.7.11"
  }
 },
 "nbformat": 4,
 "nbformat_minor": 5
}
